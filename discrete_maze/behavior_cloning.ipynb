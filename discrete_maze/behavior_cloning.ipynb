{
 "cells": [
  {
   "cell_type": "code",
   "execution_count": 1,
   "metadata": {},
   "outputs": [
    {
     "name": "stdout",
     "output_type": "stream",
     "text": [
      "2.1.3\n",
      "2.5.1+cu124\n"
     ]
    }
   ],
   "source": [
    "import heapq\n",
    "import numpy as np\n",
    "from typing import Optional, List, Tuple\n",
    "import matplotlib.pyplot as plt\n",
    "import matplotlib.colors as mcolors\n",
    "from collections import namedtuple\n",
    "print(np.__version__)\n",
    "import random\n",
    "import copy\n",
    "import time\n",
    "\n",
    "import torch\n",
    "print(torch.__version__)\n",
    "\n",
    "import torch.nn as nn\n",
    "import torch.nn.functional as F\n",
    "\n",
    "from tqdm.notebook import trange, tqdm\n",
    "import wandb\n",
    "from omegaconf import OmegaConf, DictConfig\n",
    "\n",
    "# Set precision to 3 decimal places\n",
    "np.set_printoptions(precision=3, suppress=True)\n",
    "\n",
    "import pickle\n",
    "\n",
    "from discrete_maze.maze import Maze\n",
    "from discrete_maze.search_algorithm import Node\n",
    "from discrete_maze.maze_dataset import MazeDataset\n",
    "from discrete_maze.resnet import ResNet\n"
   ]
  },
  {
   "cell_type": "markdown",
   "metadata": {},
   "source": [
    "In this notebook, we train the policy and value network via behavior cloning"
   ]
  },
  {
   "cell_type": "code",
   "execution_count": 2,
   "metadata": {},
   "outputs": [],
   "source": [
    "# Define the configuration using OmegaConf\n",
    "cfg = OmegaConf.create({\n",
    "    \"name\": \"maze_4to50_0to0p3_50000_bc\",\n",
    "    \"maze\": {\n",
    "        \"width\": {\"min\": 4, \"max\": 50},\n",
    "        \"height\": {\"min\": 4, \"max\": 50},\n",
    "        \"cell_occupancy_prob\": {\"min\": 0, \"max\": 0.3},\n",
    "        \"max_steps\": \"ShortestPath\", # Use this to set the max steps to the shortest path between source and target * 2\n",
    "        # \"max_steps\": \"L1SourceTarget\", # Use this to set the max steps to the L1 distance between source and target * 2\n",
    "        # To set paramters to constant values, use a float\n",
    "        # \"width\": 4,\n",
    "        # \"height\": 4,\n",
    "        # \"cell_occupancy_prob\": 0,\n",
    "        # \"max_steps\": 5, \n",
    "    },\n",
    "    \"model\": {\n",
    "        \"num_resBlocks\": 4,\n",
    "        \"num_filters\": 64,\n",
    "        \"history_length\": 8, # Number of current and previous states to consider, 1 for current state only\n",
    "    },\n",
    "    \"learn\": {\n",
    "        # Relevant for Expert Iteration Only\n",
    "        # \"num_learn_iters\": 100,\n",
    "        # \"num_self_play_iters\": 500,\n",
    "        # \"num_parallel_games\": 250,\n",
    "        # \"use_curriculum\": True,\n",
    "        # \"curriculum_success_threshold\": 0.95,\n",
    "        # Relevant for Behavior Cloning Only\n",
    "        \"train_dataset\": \"maze_4to50_0to0p3_50000\",\n",
    "        \"val_dataset\": \"maze_4to50_0to0p3_10000\",\n",
    "        \"val_batch_size\": 128,\n",
    "        \"patience\": 5,\n",
    "        # Relevant for both Expert Iteration and Behavior Cloning\n",
    "        \"num_train_epochs\": 20,\n",
    "        \"train_batch_size\": 64,\n",
    "        \"lr\": 0.001,\n",
    "        \"weight_decay\": 0.0001,\n",
    "        \"save_every\": 5,\n",
    "        \"use_wandb\": True,\n",
    "        # \"load_checkpoint\": \"maze_4to10_rtg_model_99\",\n",
    "    }\n",
    "})"
   ]
  },
  {
   "cell_type": "code",
   "execution_count": 3,
   "metadata": {},
   "outputs": [],
   "source": [
    "import torch.utils.data.dataloader\n",
    "\n",
    "\n",
    "class BehaviorCloner:\n",
    "    def __init__(self, model: ResNet, optimizer, cfg: DictConfig):\n",
    "        self.model = model\n",
    "        self.optimizer = optimizer\n",
    "\n",
    "        self.cfg = cfg\n",
    "        self.train_dataset = MazeDataset(self.cfg.learn.train_dataset, cfg=cfg)\n",
    "        self.val_dataset = MazeDataset(self.cfg.learn.val_dataset, cfg=cfg)\n",
    "        self.last_success_rates = []\n",
    "\n",
    "    def train(self, train_loader, epoch):\n",
    "        total_loss = 0.0\n",
    "\n",
    "        for spatial_features, scalar_features, policy_targets, value_targets in train_loader:\n",
    "            # Move data to device\n",
    "            spatial_features = spatial_features.to(self.model.device)\n",
    "            scalar_features = scalar_features.to(self.model.device)\n",
    "            policy_targets = policy_targets.to(self.model.device)\n",
    "            value_targets = value_targets.to(self.model.device)\n",
    "\n",
    "            # Forward pass\n",
    "            policy_pred, value_pred = self.model(spatial_features, scalar_features)\n",
    "\n",
    "            value_loss = F.mse_loss(value_pred, value_targets)\n",
    "            policy_loss = F.cross_entropy(policy_pred, policy_targets)\n",
    "            loss = value_loss + policy_loss\n",
    "\n",
    "            total_loss += loss.item()\n",
    "            \n",
    "            self.optimizer.zero_grad()\n",
    "            loss.backward()\n",
    "            self.optimizer.step()\n",
    "\n",
    "            if self.cfg.learn.use_wandb:\n",
    "                # Log metrics for the current batch\n",
    "                wandb.log({\"batch_loss\": loss.item()})\n",
    "        \n",
    "        avg_loss = total_loss / len(train_loader)\n",
    "        if self.cfg.learn.use_wandb:\n",
    "            # Log average loss for the epoch\n",
    "            wandb.log({\"train_epoch_loss\": avg_loss, \"epoch\": epoch, \"wall_time\": time.time() - self.start_time})\n",
    "    \n",
    "    def validate(self, val_loader: torch.utils.data.DataLoader, epoch):\n",
    "        total_loss = 0.0\n",
    "        self.model.eval()  # Set model to evaluation mode\n",
    "\n",
    "        with torch.no_grad():\n",
    "            for spatial_features, scalar_features, policy_targets, value_targets in val_loader:\n",
    "                # Move data to device\n",
    "                spatial_features = spatial_features.to(self.model.device)\n",
    "                scalar_features = scalar_features.to(self.model.device)\n",
    "                policy_targets = policy_targets.to(self.model.device)\n",
    "                value_targets = value_targets.to(self.model.device)\n",
    "\n",
    "                # Forward pass\n",
    "                policy_pred, value_pred = self.model(spatial_features, scalar_features)\n",
    "                value_loss = F.mse_loss(value_pred, value_targets)\n",
    "                policy_loss = F.cross_entropy(policy_pred, policy_targets)\n",
    "                loss = value_loss + policy_loss\n",
    "\n",
    "                total_loss += loss.item()\n",
    "\n",
    "        avg_loss = total_loss / len(val_loader)\n",
    "        if self.cfg.learn.use_wandb:\n",
    "            # Log validation loss for the epoch\n",
    "            wandb.log({\"val_epoch_loss\": avg_loss, \"epoch\": epoch, \"wall_time\": time.time() - self.start_time})\n",
    "\n",
    "        self.model.train()  # Switch back to training mode\n",
    "        return avg_loss\n",
    "\n",
    "    def learn(self):\n",
    "        if self.cfg.learn.use_wandb:\n",
    "            wandb.init(project=\"alpha-zero-discrete-maze\",\n",
    "                name=self.cfg.name,\n",
    "                config=OmegaConf.to_container(self.cfg, resolve=True, throw_on_missing=True),\n",
    "                save_code=True)\n",
    "            \n",
    "            wandb.watch(self.model, log=\"all\", log_freq=10)  # Log model gradients and parameters\n",
    "        best_val_loss = float('inf')\n",
    "        patience_counter = 0\n",
    "\n",
    "        self.start_time = time.time()\n",
    "        train_loader = torch.utils.data.DataLoader(\n",
    "            self.train_dataset, batch_size=self.cfg.learn.train_batch_size, shuffle=True, num_workers=4\n",
    "        )\n",
    "        val_loader = torch.utils.data.DataLoader(\n",
    "            self.val_dataset, batch_size=self.cfg.learn.val_batch_size, shuffle=False, num_workers=4\n",
    "        )\n",
    "            \n",
    "        self.model.train()\n",
    "        for epoch in trange(self.cfg.learn.num_train_epochs):\n",
    "            self.train(train_loader, epoch)\n",
    "            val_loss = self.validate(val_loader, epoch)\n",
    "\n",
    "        \n",
    "            # Save if iter divides save_every or if it is the last iteration\n",
    "            if (epoch % self.cfg.learn.save_every == 0 and epoch != 0) or epoch == self.cfg.learn.num_train_epochs - 1:\n",
    "                torch.save(self.model.state_dict(), f\"checkpoints/{self.cfg.name}_model_{epoch}.pt\")\n",
    "                torch.save(self.optimizer.state_dict(), f\"checkpoints/{self.cfg.name}_optimizer_{epoch}.pt\")\n",
    "\n",
    "                if self.cfg.learn.use_wandb:\n",
    "                    # Log model checkpoint to W&B\n",
    "                    wandb.save(f\"{cfg.name}_model_{epoch}.pt\")\n",
    "                    wandb.save(f\"{cfg.name}_optimizer_{epoch}.pt\")\n",
    "            \n",
    "            # Check for improvement\n",
    "            if val_loss < best_val_loss:\n",
    "                best_val_loss = val_loss\n",
    "                patience_counter = 0\n",
    "                # Save the best model locally\n",
    "                best_model_path = f\"checkpoints/{self.cfg.name}_best_model.pt\"\n",
    "                torch.save(self.model.state_dict(), best_model_path)\n",
    "\n",
    "                # Log the best model as an artifact\n",
    "                if self.cfg.learn.use_wandb:\n",
    "                    artifact = wandb.Artifact('best_model', type='model')\n",
    "                    artifact.add_file(best_model_path)\n",
    "                    wandb.log_artifact(artifact, aliases=['best'])\n",
    "                    # Log the epoch number\n",
    "                    wandb.summary['best_epoch'] = epoch\n",
    "                    wandb.summary['best_val_loss'] = best_val_loss                    \n",
    "            else:\n",
    "                patience_counter += 1\n",
    "\n",
    "            # Early stopping\n",
    "            if patience_counter >= self.cfg.learn.patience:\n",
    "                print(f\"Early stopping at epoch {epoch}\")\n",
    "                break\n",
    "            \n",
    "            print(f\"Epoch {epoch}: Validation Loss: {val_loss}\")\n",
    "\n",
    "        if self.cfg.learn.use_wandb:\n",
    "            wandb.finish()\n",
    "            \n"
   ]
  },
  {
   "cell_type": "code",
   "execution_count": 4,
   "metadata": {},
   "outputs": [
    {
     "name": "stdout",
     "output_type": "stream",
     "text": [
      "Loaded maze_4to50_0to0p3_50000 dataset with 50000 episodes, that used seed 166016287\n",
      "{'width': {'min': 4, 'max': 50}, 'height': {'min': 4, 'max': 50}, 'cell_occupancy_prob': {'min': 0, 'max': 0.3}, 'max_steps': 'ShortestPath'}\n"
     ]
    },
    {
     "data": {
      "application/vnd.jupyter.widget-view+json": {
       "model_id": "0d93471109e94104a6459751552a46a7",
       "version_major": 2,
       "version_minor": 0
      },
      "text/plain": [
       "  0%|          | 0/50000 [00:00<?, ?it/s]"
      ]
     },
     "metadata": {},
     "output_type": "display_data"
    },
    {
     "name": "stdout",
     "output_type": "stream",
     "text": [
      "Loaded maze_4to50_0to0p3_10000 dataset with 10000 episodes, that used seed 4173490378\n",
      "{'width': {'min': 4, 'max': 50}, 'height': {'min': 4, 'max': 50}, 'cell_occupancy_prob': {'min': 0, 'max': 0.3}, 'max_steps': 'ShortestPath'}\n"
     ]
    },
    {
     "data": {
      "application/vnd.jupyter.widget-view+json": {
       "model_id": "b756a8c7c3a54d2e8a611db6b666153b",
       "version_major": 2,
       "version_minor": 0
      },
      "text/plain": [
       "  0%|          | 0/10000 [00:00<?, ?it/s]"
      ]
     },
     "metadata": {},
     "output_type": "display_data"
    }
   ],
   "source": [
    "device = torch.device(\"cuda\" if torch.cuda.is_available() else \"cpu\")\n",
    "\n",
    "model = ResNet(cfg.model, device)\n",
    "if \"load_checkpoint\" in cfg.learn:\n",
    "    # Replace \"optimizer\" with \"model\"\n",
    "    model_filename = cfg.learn.load_checkpoint.replace(\"optimizer\", \"model\")\n",
    "    model.load_state_dict(torch.load(f\"checkpoints/{model_filename}.pt\"))\n",
    "\n",
    "optimizer = torch.optim.Adam(model.parameters(), lr=cfg.learn.lr, weight_decay=cfg.learn.weight_decay)\n",
    "if \"load_checkpoint\" in cfg.learn:\n",
    "    # Replace \"model\" with \"optimizer\"\n",
    "    model_filename = cfg.learn.load_checkpoint.replace(\"model\", \"optimizer\")\n",
    "    optimizer.load_state_dict(torch.load(f\"checkpoints/{model_filename}.pt\"))\n",
    "\n",
    "\n",
    "bc = BehaviorCloner(model, optimizer, cfg=cfg)"
   ]
  },
  {
   "cell_type": "code",
   "execution_count": 5,
   "metadata": {},
   "outputs": [
    {
     "name": "stderr",
     "output_type": "stream",
     "text": [
      "\u001b[34m\u001b[1mwandb\u001b[0m: Using wandb-core as the SDK backend.  Please refer to https://wandb.me/wandb-core for more information.\n",
      "\u001b[34m\u001b[1mwandb\u001b[0m: Currently logged in as: \u001b[33mshaoyuan\u001b[0m (\u001b[33mcontact_placement\u001b[0m). Use \u001b[1m`wandb login --relogin`\u001b[0m to force relogin\n"
     ]
    },
    {
     "data": {
      "text/html": [
       "Tracking run with wandb version 0.18.6"
      ],
      "text/plain": [
       "<IPython.core.display.HTML object>"
      ]
     },
     "metadata": {},
     "output_type": "display_data"
    },
    {
     "data": {
      "text/html": [
       "Run data is saved locally in <code>/home/shaoyuan/Documents/Software/AlphaZeroFromScratch/discrete_maze/wandb/run-20241129_154234-13a6k3g3</code>"
      ],
      "text/plain": [
       "<IPython.core.display.HTML object>"
      ]
     },
     "metadata": {},
     "output_type": "display_data"
    },
    {
     "data": {
      "text/html": [
       "Syncing run <strong><a href='https://wandb.ai/contact_placement/alpha-zero-discrete-maze/runs/13a6k3g3' target=\"_blank\">maze_4to50_0to0p3_50000_bc</a></strong> to <a href='https://wandb.ai/contact_placement/alpha-zero-discrete-maze' target=\"_blank\">Weights & Biases</a> (<a href='https://wandb.me/developer-guide' target=\"_blank\">docs</a>)<br/>"
      ],
      "text/plain": [
       "<IPython.core.display.HTML object>"
      ]
     },
     "metadata": {},
     "output_type": "display_data"
    },
    {
     "data": {
      "text/html": [
       " View project at <a href='https://wandb.ai/contact_placement/alpha-zero-discrete-maze' target=\"_blank\">https://wandb.ai/contact_placement/alpha-zero-discrete-maze</a>"
      ],
      "text/plain": [
       "<IPython.core.display.HTML object>"
      ]
     },
     "metadata": {},
     "output_type": "display_data"
    },
    {
     "data": {
      "text/html": [
       " View run at <a href='https://wandb.ai/contact_placement/alpha-zero-discrete-maze/runs/13a6k3g3' target=\"_blank\">https://wandb.ai/contact_placement/alpha-zero-discrete-maze/runs/13a6k3g3</a>"
      ],
      "text/plain": [
       "<IPython.core.display.HTML object>"
      ]
     },
     "metadata": {},
     "output_type": "display_data"
    },
    {
     "data": {
      "application/vnd.jupyter.widget-view+json": {
       "model_id": "a0b22af6a73247a8b35ab8d273b3748f",
       "version_major": 2,
       "version_minor": 0
      },
      "text/plain": [
       "  0%|          | 0/20 [00:00<?, ?it/s]"
      ]
     },
     "metadata": {},
     "output_type": "display_data"
    },
    {
     "name": "stdout",
     "output_type": "stream",
     "text": [
      "Epoch 0: Validation Loss: 0.25241206812707684\n",
      "Epoch 1: Validation Loss: 0.2124934554854526\n",
      "Epoch 2: Validation Loss: 0.18342284924244578\n",
      "Epoch 3: Validation Loss: 0.17960348178314256\n",
      "Epoch 4: Validation Loss: 0.1628076306815389\n",
      "Epoch 5: Validation Loss: 0.18161702439000335\n",
      "Epoch 6: Validation Loss: 0.15161093630934064\n",
      "Epoch 7: Validation Loss: 0.1528193101852755\n",
      "Epoch 8: Validation Loss: 0.16231881963867176\n",
      "Epoch 9: Validation Loss: 0.1615421399474144\n",
      "Epoch 10: Validation Loss: 0.1680710953247698\n",
      "Early stopping at epoch 11\n"
     ]
    },
    {
     "data": {
      "text/html": [
       "\n",
       "    <style>\n",
       "        .wandb-row {\n",
       "            display: flex;\n",
       "            flex-direction: row;\n",
       "            flex-wrap: wrap;\n",
       "            justify-content: flex-start;\n",
       "            width: 100%;\n",
       "        }\n",
       "        .wandb-col {\n",
       "            display: flex;\n",
       "            flex-direction: column;\n",
       "            flex-basis: 100%;\n",
       "            flex: 1;\n",
       "            padding: 10px;\n",
       "        }\n",
       "    </style>\n",
       "<div class=\"wandb-row\"><div class=\"wandb-col\"><h3>Run history:</h3><br/><table class=\"wandb\"><tr><td>batch_loss</td><td>█▃▂▂▂▁▂▂▂▁▂▁▁▁▁▁▁▁▁▁▁▁▁▁▁▁▁▁▁▁▁▁▁▁▁▁▁▁▁▁</td></tr><tr><td>epoch</td><td>▁▁▂▂▂▂▃▃▄▄▄▄▅▅▅▅▆▆▇▇▇▇██</td></tr><tr><td>train_epoch_loss</td><td>█▅▄▃▃▂▂▂▂▂▁▁</td></tr><tr><td>val_epoch_loss</td><td>█▅▃▃▂▃▁▁▂▂▂▂</td></tr><tr><td>wall_time</td><td>▁▁▂▂▂▂▃▃▄▄▄▄▅▅▅▅▆▆▇▇▇▇██</td></tr></table><br/></div><div class=\"wandb-col\"><h3>Run summary:</h3><br/><table class=\"wandb\"><tr><td>batch_loss</td><td>0.02491</td></tr><tr><td>best_epoch</td><td>6</td></tr><tr><td>best_val_loss</td><td>0.15161</td></tr><tr><td>epoch</td><td>11</td></tr><tr><td>train_epoch_loss</td><td>0.09144</td></tr><tr><td>val_epoch_loss</td><td>0.17152</td></tr><tr><td>wall_time</td><td>69.4424</td></tr></table><br/></div></div>"
      ],
      "text/plain": [
       "<IPython.core.display.HTML object>"
      ]
     },
     "metadata": {},
     "output_type": "display_data"
    },
    {
     "data": {
      "text/html": [
       " View run <strong style=\"color:#cdcd00\">maze_4to50_0to0p3_50000_bc</strong> at: <a href='https://wandb.ai/contact_placement/alpha-zero-discrete-maze/runs/13a6k3g3' target=\"_blank\">https://wandb.ai/contact_placement/alpha-zero-discrete-maze/runs/13a6k3g3</a><br/> View project at: <a href='https://wandb.ai/contact_placement/alpha-zero-discrete-maze' target=\"_blank\">https://wandb.ai/contact_placement/alpha-zero-discrete-maze</a><br/>Synced 5 W&B file(s), 0 media file(s), 14 artifact file(s) and 0 other file(s)"
      ],
      "text/plain": [
       "<IPython.core.display.HTML object>"
      ]
     },
     "metadata": {},
     "output_type": "display_data"
    },
    {
     "data": {
      "text/html": [
       "Find logs at: <code>./wandb/run-20241129_154234-13a6k3g3/logs</code>"
      ],
      "text/plain": [
       "<IPython.core.display.HTML object>"
      ]
     },
     "metadata": {},
     "output_type": "display_data"
    }
   ],
   "source": [
    "bc.learn()"
   ]
  },
  {
   "cell_type": "code",
   "execution_count": null,
   "metadata": {},
   "outputs": [],
   "source": []
  }
 ],
 "metadata": {
  "kernelspec": {
   "display_name": ".venv",
   "language": "python",
   "name": "python3"
  },
  "language_info": {
   "codemirror_mode": {
    "name": "ipython",
    "version": 3
   },
   "file_extension": ".py",
   "mimetype": "text/x-python",
   "name": "python",
   "nbconvert_exporter": "python",
   "pygments_lexer": "ipython3",
   "version": "3.10.12"
  }
 },
 "nbformat": 4,
 "nbformat_minor": 2
}
