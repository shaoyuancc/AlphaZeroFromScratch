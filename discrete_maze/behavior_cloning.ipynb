{
 "cells": [
  {
   "cell_type": "code",
   "execution_count": 1,
   "metadata": {},
   "outputs": [
    {
     "name": "stdout",
     "output_type": "stream",
     "text": [
      "2.1.3\n",
      "2.5.1+cu124\n"
     ]
    }
   ],
   "source": [
    "import heapq\n",
    "import numpy as np\n",
    "from typing import Optional, List, Tuple\n",
    "import matplotlib.pyplot as plt\n",
    "import matplotlib.colors as mcolors\n",
    "from collections import namedtuple\n",
    "print(np.__version__)\n",
    "import random\n",
    "import copy\n",
    "import time\n",
    "\n",
    "import torch\n",
    "print(torch.__version__)\n",
    "\n",
    "import torch.nn as nn\n",
    "import torch.nn.functional as F\n",
    "\n",
    "from tqdm.notebook import trange, tqdm\n",
    "import wandb\n",
    "from omegaconf import OmegaConf, DictConfig\n",
    "\n",
    "# Set precision to 3 decimal places\n",
    "np.set_printoptions(precision=3, suppress=True)\n",
    "\n",
    "import pickle\n",
    "\n",
    "from discrete_maze.maze import Maze\n",
    "from discrete_maze.search_algorithm import GreedyAlgorithm\n",
    "from discrete_maze.maze_dataset import MazeDataset\n",
    "from discrete_maze.resnet import ResNet\n"
   ]
  },
  {
   "cell_type": "markdown",
   "metadata": {},
   "source": [
    "In this notebook, we train the policy and value network via behavior cloning"
   ]
  },
  {
   "cell_type": "code",
   "execution_count": null,
   "metadata": {},
   "outputs": [],
   "source": [
    "# Define the configuration using OmegaConf\n",
    "cfg = OmegaConf.create({\n",
    "    \"name\": \"maze_4to50_0to0p3_500000_bc\",\n",
    "    \"maze\": {\n",
    "        \"width\": {\"min\": 4, \"max\": 50},\n",
    "        \"height\": {\"min\": 4, \"max\": 50},\n",
    "        \"cell_occupancy_prob\": {\"min\": 0, \"max\": 0.3},\n",
    "        \"max_steps\": \"ShortestPath\", # Use this to set the max steps to the shortest path between source and target * 2\n",
    "        # \"max_steps\": \"L1SourceTarget\", # Use this to set the max steps to the L1 distance between source and target * 2\n",
    "        # To set paramters to constant values, use a float\n",
    "        # \"width\": 4,\n",
    "        # \"height\": 4,\n",
    "        # \"cell_occupancy_prob\": 0,\n",
    "        # \"max_steps\": 5, \n",
    "    },\n",
    "    \"model\": {\n",
    "        \"num_resBlocks\": 4,\n",
    "        \"num_filters\": 64,\n",
    "        \"history_length\": 8, # Number of current and previous states to consider, 1 for current state only\n",
    "    },\n",
    "    \"learn\": {\n",
    "        # Relevant for Expert Iteration Only\n",
    "        # \"num_learn_iters\": 100,\n",
    "        # \"num_self_play_iters\": 500,\n",
    "        # \"num_parallel_games\": 250,\n",
    "        # \"use_curriculum\": True,\n",
    "        # \"curriculum_success_threshold\": 0.95,\n",
    "        # Relevant for Behavior Cloning Only\n",
    "        \"train_dataset\": \"maze_4to50_0to0p3_500000\",\n",
    "        \"val_dataset\": \"maze_4to50_0to0p3_50000\",\n",
    "        \"val_batch_size\": 128,\n",
    "        # \"patience\": 5,\n",
    "        # Relevant for both Expert Iteration and Behavior Cloning\n",
    "        \"num_train_epochs\": 15,\n",
    "        \"train_batch_size\": 64,\n",
    "        \"lr\": 0.001,\n",
    "        \"weight_decay\": 0.0001,\n",
    "        \"save_every\": 5,\n",
    "        \"use_wandb\": True,\n",
    "        # \"load_checkpoint\": \"maze_4to10_rtg_model_99\",\n",
    "    }\n",
    "})"
   ]
  },
  {
   "cell_type": "code",
   "execution_count": 3,
   "metadata": {},
   "outputs": [],
   "source": [
    "import torch.utils.data.dataloader\n",
    "\n",
    "\n",
    "class BehaviorCloner:\n",
    "    def __init__(self, model: ResNet, optimizer, cfg: DictConfig):\n",
    "        self.model = model\n",
    "        self.optimizer = optimizer\n",
    "\n",
    "        self.cfg = cfg\n",
    "        self.train_dataset = MazeDataset(self.cfg.learn.train_dataset, cfg=cfg)\n",
    "        self.val_dataset = MazeDataset(self.cfg.learn.val_dataset, cfg=cfg)\n",
    "        self.last_success_rates = []\n",
    "\n",
    "    def train(self, train_loader, epoch):\n",
    "        total_loss = 0.0\n",
    "\n",
    "        for spatial_features, scalar_features, policy_targets, value_targets in train_loader:\n",
    "            # Move data to device\n",
    "            spatial_features = spatial_features.to(self.model.device)\n",
    "            scalar_features = scalar_features.to(self.model.device)\n",
    "            policy_targets = policy_targets.to(self.model.device)\n",
    "            value_targets = value_targets.to(self.model.device)\n",
    "\n",
    "            # Forward pass\n",
    "            policy_pred, value_pred = self.model(spatial_features, scalar_features)\n",
    "\n",
    "            value_loss = F.mse_loss(value_pred, value_targets)\n",
    "            policy_loss = F.cross_entropy(policy_pred, policy_targets)\n",
    "            loss = value_loss + policy_loss\n",
    "\n",
    "            total_loss += loss.item()\n",
    "            \n",
    "            self.optimizer.zero_grad()\n",
    "            loss.backward()\n",
    "            self.optimizer.step()\n",
    "\n",
    "            if self.cfg.learn.use_wandb:\n",
    "                # Log metrics for the current batch\n",
    "                wandb.log({\"batch_loss\": loss.item()})\n",
    "        \n",
    "        avg_loss = total_loss / len(train_loader)\n",
    "        if self.cfg.learn.use_wandb:\n",
    "            # Log average loss for the epoch\n",
    "            wandb.log({\"train_epoch_loss\": avg_loss, \"epoch\": epoch, \"wall_time\": time.time() - self.start_time})\n",
    "    \n",
    "    def validate(self, val_loader: torch.utils.data.DataLoader, epoch):\n",
    "        total_loss = 0.0\n",
    "        self.model.eval()  # Set model to evaluation mode\n",
    "\n",
    "        with torch.no_grad():\n",
    "            for spatial_features, scalar_features, policy_targets, value_targets in val_loader:\n",
    "                # Move data to device\n",
    "                spatial_features = spatial_features.to(self.model.device)\n",
    "                scalar_features = scalar_features.to(self.model.device)\n",
    "                policy_targets = policy_targets.to(self.model.device)\n",
    "                value_targets = value_targets.to(self.model.device)\n",
    "\n",
    "                # Forward pass\n",
    "                policy_pred, value_pred = self.model(spatial_features, scalar_features)\n",
    "                value_loss = F.mse_loss(value_pred, value_targets)\n",
    "                policy_loss = F.cross_entropy(policy_pred, policy_targets)\n",
    "                loss = value_loss + policy_loss\n",
    "\n",
    "                total_loss += loss.item()\n",
    "\n",
    "        avg_loss = total_loss / len(val_loader)\n",
    "        if self.cfg.learn.use_wandb:\n",
    "            # Log validation loss for the epoch\n",
    "            wandb.log({\"val_epoch_loss\": avg_loss, \"epoch\": epoch, \"wall_time\": time.time() - self.start_time})\n",
    "\n",
    "        self.model.train()  # Switch back to training mode\n",
    "        return avg_loss\n",
    "\n",
    "    def learn(self):\n",
    "        if self.cfg.learn.use_wandb:\n",
    "            wandb.init(project=\"alpha-zero-discrete-maze\",\n",
    "                name=self.cfg.name,\n",
    "                config=OmegaConf.to_container(self.cfg, resolve=True, throw_on_missing=True),\n",
    "                save_code=True)\n",
    "            \n",
    "            wandb.watch(self.model, log=\"all\", log_freq=10)  # Log model gradients and parameters\n",
    "        best_val_loss = float('inf')\n",
    "        patience_counter = 0\n",
    "\n",
    "        self.start_time = time.time()\n",
    "        train_loader = torch.utils.data.DataLoader(\n",
    "            self.train_dataset, batch_size=self.cfg.learn.train_batch_size, shuffle=True, num_workers=4\n",
    "        )\n",
    "        val_loader = torch.utils.data.DataLoader(\n",
    "            self.val_dataset, batch_size=self.cfg.learn.val_batch_size, shuffle=False, num_workers=4\n",
    "        )\n",
    "            \n",
    "        self.model.train()\n",
    "        for epoch in trange(self.cfg.learn.num_train_epochs):\n",
    "            self.train(train_loader, epoch)\n",
    "            val_loss = self.validate(val_loader, epoch)\n",
    "\n",
    "        \n",
    "            # Save if iter divides save_every or if it is the last iteration\n",
    "            if (epoch % self.cfg.learn.save_every == 0 and epoch != 0) or epoch == self.cfg.learn.num_train_epochs - 1:\n",
    "                torch.save(self.model.state_dict(), f\"checkpoints/{self.cfg.name}_model_{epoch}.pt\")\n",
    "                torch.save(self.optimizer.state_dict(), f\"checkpoints/{self.cfg.name}_optimizer_{epoch}.pt\")\n",
    "\n",
    "                if self.cfg.learn.use_wandb:\n",
    "                    # Log model checkpoint to W&B\n",
    "                    wandb.save(f\"{cfg.name}_model_{epoch}.pt\")\n",
    "                    wandb.save(f\"{cfg.name}_optimizer_{epoch}.pt\")\n",
    "            \n",
    "            # Check for improvement\n",
    "            if val_loss < best_val_loss:\n",
    "                best_val_loss = val_loss\n",
    "                patience_counter = 0\n",
    "                # Save the best model locally\n",
    "                best_model_path = f\"checkpoints/{self.cfg.name}_best_model.pt\"\n",
    "                torch.save(self.model.state_dict(), best_model_path)\n",
    "\n",
    "                # Log the best model as an artifact\n",
    "                if self.cfg.learn.use_wandb:\n",
    "                    artifact = wandb.Artifact('best_model', type='model')\n",
    "                    artifact.add_file(best_model_path)\n",
    "                    wandb.log_artifact(artifact, aliases=['best'])\n",
    "                    # Log the epoch number\n",
    "                    wandb.summary['best_epoch'] = epoch\n",
    "                    wandb.summary['best_val_loss'] = best_val_loss                    \n",
    "            else:\n",
    "                patience_counter += 1\n",
    "\n",
    "            # Early stopping\n",
    "            if \"patience\" in self.cfg.learn and patience_counter >= self.cfg.learn.patience:\n",
    "                print(f\"Early stopping at epoch {epoch}\")\n",
    "                break\n",
    "            \n",
    "            print(f\"Epoch {epoch}: Validation Loss: {val_loss}\")\n",
    "\n",
    "        if self.cfg.learn.use_wandb:\n",
    "            wandb.finish()\n",
    "            \n"
   ]
  },
  {
   "cell_type": "code",
   "execution_count": 4,
   "metadata": {},
   "outputs": [
    {
     "name": "stdout",
     "output_type": "stream",
     "text": [
      "Loaded maze_4to50_0to0p3_1000 dataset with 1000 episodes, that used seed 2045782727\n",
      "{'width': {'min': 4, 'max': 50}, 'height': {'min': 4, 'max': 50}, 'cell_occupancy_prob': {'min': 0, 'max': 0.3}, 'max_steps': 'ShortestPath'}\n"
     ]
    },
    {
     "name": "stderr",
     "output_type": "stream",
     "text": [
      "100%|██████████| 1000/1000 [00:00<00:00, 3729.50it/s]\n"
     ]
    },
    {
     "name": "stdout",
     "output_type": "stream",
     "text": [
      "Loaded maze_4to50_0to0p3_100 dataset with 100 episodes, that used seed 3417946397\n",
      "{'width': {'min': 4, 'max': 50}, 'height': {'min': 4, 'max': 50}, 'cell_occupancy_prob': {'min': 0, 'max': 0.3}, 'max_steps': 'ShortestPath'}\n"
     ]
    },
    {
     "name": "stderr",
     "output_type": "stream",
     "text": [
      "100%|██████████| 100/100 [00:00<00:00, 3770.67it/s]\n"
     ]
    }
   ],
   "source": [
    "device = torch.device(\"cuda\" if torch.cuda.is_available() else \"cpu\")\n",
    "\n",
    "model = ResNet(cfg.model, device)\n",
    "if \"load_checkpoint\" in cfg.learn:\n",
    "    # Replace \"optimizer\" with \"model\"\n",
    "    model_filename = cfg.learn.load_checkpoint.replace(\"optimizer\", \"model\")\n",
    "    model.load_state_dict(torch.load(f\"checkpoints/{model_filename}.pt\"))\n",
    "\n",
    "optimizer = torch.optim.Adam(model.parameters(), lr=cfg.learn.lr, weight_decay=cfg.learn.weight_decay)\n",
    "if \"load_checkpoint\" in cfg.learn:\n",
    "    # Replace \"model\" with \"optimizer\"\n",
    "    model_filename = cfg.learn.load_checkpoint.replace(\"model\", \"optimizer\")\n",
    "    optimizer.load_state_dict(torch.load(f\"checkpoints/{model_filename}.pt\"))\n",
    "\n",
    "\n",
    "bc = BehaviorCloner(model, optimizer, cfg=cfg)"
   ]
  },
  {
   "cell_type": "code",
   "execution_count": 5,
   "metadata": {},
   "outputs": [
    {
     "name": "stderr",
     "output_type": "stream",
     "text": [
      "\u001b[34m\u001b[1mwandb\u001b[0m: Using wandb-core as the SDK backend.  Please refer to https://wandb.me/wandb-core for more information.\n",
      "\u001b[34m\u001b[1mwandb\u001b[0m: Currently logged in as: \u001b[33mshaoyuan\u001b[0m (\u001b[33mcontact_placement\u001b[0m). Use \u001b[1m`wandb login --relogin`\u001b[0m to force relogin\n"
     ]
    },
    {
     "data": {
      "text/html": [
       "Tracking run with wandb version 0.18.6"
      ],
      "text/plain": [
       "<IPython.core.display.HTML object>"
      ]
     },
     "metadata": {},
     "output_type": "display_data"
    },
    {
     "data": {
      "text/html": [
       "Run data is saved locally in <code>/home/shaoyuan/Documents/Software/AlphaZeroFromScratch/discrete_maze/wandb/run-20241129_170406-4vmjo4zm</code>"
      ],
      "text/plain": [
       "<IPython.core.display.HTML object>"
      ]
     },
     "metadata": {},
     "output_type": "display_data"
    },
    {
     "data": {
      "text/html": [
       "Syncing run <strong><a href='https://wandb.ai/contact_placement/alpha-zero-discrete-maze/runs/4vmjo4zm' target=\"_blank\">test</a></strong> to <a href='https://wandb.ai/contact_placement/alpha-zero-discrete-maze' target=\"_blank\">Weights & Biases</a> (<a href='https://wandb.me/developer-guide' target=\"_blank\">docs</a>)<br/>"
      ],
      "text/plain": [
       "<IPython.core.display.HTML object>"
      ]
     },
     "metadata": {},
     "output_type": "display_data"
    },
    {
     "data": {
      "text/html": [
       " View project at <a href='https://wandb.ai/contact_placement/alpha-zero-discrete-maze' target=\"_blank\">https://wandb.ai/contact_placement/alpha-zero-discrete-maze</a>"
      ],
      "text/plain": [
       "<IPython.core.display.HTML object>"
      ]
     },
     "metadata": {},
     "output_type": "display_data"
    },
    {
     "data": {
      "text/html": [
       " View run at <a href='https://wandb.ai/contact_placement/alpha-zero-discrete-maze/runs/4vmjo4zm' target=\"_blank\">https://wandb.ai/contact_placement/alpha-zero-discrete-maze/runs/4vmjo4zm</a>"
      ],
      "text/plain": [
       "<IPython.core.display.HTML object>"
      ]
     },
     "metadata": {},
     "output_type": "display_data"
    },
    {
     "data": {
      "application/vnd.jupyter.widget-view+json": {
       "model_id": "9e12dd1ff225444e9564b4e7d31703b8",
       "version_major": 2,
       "version_minor": 0
      },
      "text/plain": [
       "  0%|          | 0/15 [00:00<?, ?it/s]"
      ]
     },
     "metadata": {},
     "output_type": "display_data"
    },
    {
     "name": "stdout",
     "output_type": "stream",
     "text": [
      "Epoch 0: Validation Loss: 1.1632020473480225\n",
      "Epoch 1: Validation Loss: 0.6089980006217957\n",
      "Epoch 2: Validation Loss: 0.37383055686950684\n",
      "Epoch 3: Validation Loss: 0.6185168623924255\n",
      "Epoch 4: Validation Loss: 0.5155584812164307\n",
      "Epoch 5: Validation Loss: 0.3827107548713684\n",
      "Epoch 6: Validation Loss: 0.5884997844696045\n",
      "Epoch 7: Validation Loss: 0.6079491972923279\n",
      "Epoch 8: Validation Loss: 0.6595540046691895\n",
      "Epoch 9: Validation Loss: 0.4965282082557678\n",
      "Epoch 10: Validation Loss: 0.4586004912853241\n",
      "Epoch 11: Validation Loss: 0.6655054092407227\n",
      "Epoch 12: Validation Loss: 0.6547554135322571\n",
      "Epoch 13: Validation Loss: 1.282321572303772\n",
      "Epoch 14: Validation Loss: 0.716168999671936\n"
     ]
    },
    {
     "data": {
      "application/vnd.jupyter.widget-view+json": {
       "model_id": "bc713024e3f84771ad83c1c994f36389",
       "version_major": 2,
       "version_minor": 0
      },
      "text/plain": [
       "VBox(children=(Label(value='6.798 MB of 6.798 MB uploaded\\r'), FloatProgress(value=1.0, max=1.0)))"
      ]
     },
     "metadata": {},
     "output_type": "display_data"
    },
    {
     "data": {
      "text/html": [
       "\n",
       "    <style>\n",
       "        .wandb-row {\n",
       "            display: flex;\n",
       "            flex-direction: row;\n",
       "            flex-wrap: wrap;\n",
       "            justify-content: flex-start;\n",
       "            width: 100%;\n",
       "        }\n",
       "        .wandb-col {\n",
       "            display: flex;\n",
       "            flex-direction: column;\n",
       "            flex-basis: 100%;\n",
       "            flex: 1;\n",
       "            padding: 10px;\n",
       "        }\n",
       "    </style>\n",
       "<div class=\"wandb-row\"><div class=\"wandb-col\"><h3>Run history:</h3><br/><table class=\"wandb\"><tr><td>batch_loss</td><td>█▅▅▅▅▄▃▄▂▂▃▂▁▂▂▂▁▂▁▁▁▂▁▁▂▁▁▁▁▁▁▁▁▁▁▁▁▁▁▁</td></tr><tr><td>epoch</td><td>▁▁▁▁▂▂▃▃▃▃▃▃▄▄▅▅▅▅▅▅▆▆▇▇▇▇▇▇██</td></tr><tr><td>train_epoch_loss</td><td>█▄▃▂▁▁▁▁▁▁▁▁▁▁▁</td></tr><tr><td>val_epoch_loss</td><td>▇▃▁▃▂▁▃▃▃▂▂▃▃█▄</td></tr><tr><td>wall_time</td><td>▁▁▂▂▂▂▃▃▃▃▄▄▄▄▅▅▅▅▅▆▆▆▆▇▇▇▇███</td></tr></table><br/></div><div class=\"wandb-col\"><h3>Run summary:</h3><br/><table class=\"wandb\"><tr><td>batch_loss</td><td>0.00684</td></tr><tr><td>best_epoch</td><td>2</td></tr><tr><td>best_val_loss</td><td>0.37383</td></tr><tr><td>epoch</td><td>14</td></tr><tr><td>train_epoch_loss</td><td>0.04008</td></tr><tr><td>val_epoch_loss</td><td>0.71617</td></tr><tr><td>wall_time</td><td>6.38192</td></tr></table><br/></div></div>"
      ],
      "text/plain": [
       "<IPython.core.display.HTML object>"
      ]
     },
     "metadata": {},
     "output_type": "display_data"
    },
    {
     "data": {
      "text/html": [
       " View run <strong style=\"color:#cdcd00\">test</strong> at: <a href='https://wandb.ai/contact_placement/alpha-zero-discrete-maze/runs/4vmjo4zm' target=\"_blank\">https://wandb.ai/contact_placement/alpha-zero-discrete-maze/runs/4vmjo4zm</a><br/> View project at: <a href='https://wandb.ai/contact_placement/alpha-zero-discrete-maze' target=\"_blank\">https://wandb.ai/contact_placement/alpha-zero-discrete-maze</a><br/>Synced 5 W&B file(s), 0 media file(s), 10 artifact file(s) and 0 other file(s)"
      ],
      "text/plain": [
       "<IPython.core.display.HTML object>"
      ]
     },
     "metadata": {},
     "output_type": "display_data"
    },
    {
     "data": {
      "text/html": [
       "Find logs at: <code>./wandb/run-20241129_170406-4vmjo4zm/logs</code>"
      ],
      "text/plain": [
       "<IPython.core.display.HTML object>"
      ]
     },
     "metadata": {},
     "output_type": "display_data"
    }
   ],
   "source": [
    "bc.learn()"
   ]
  },
  {
   "cell_type": "markdown",
   "metadata": {},
   "source": [
    "# Eval"
   ]
  },
  {
   "cell_type": "code",
   "execution_count": null,
   "metadata": {},
   "outputs": [
    {
     "data": {
      "image/png": "[encoded data removed]",
      "text/plain": [
       "<Figure size 1000x1000 with 1 Axes>"
      ]
     },
     "metadata": {},
     "output_type": "display_data"
    },
    {
     "name": "stderr",
     "output_type": "stream",
     "text": [
      "/tmp/ipykernel_1184135/3385844467.py:8: FutureWarning: You are using `torch.load` with `weights_only=False` (the current default value), which uses the default pickle module implicitly. It is possible to construct malicious pickle data which will execute arbitrary code during unpickling (See https://github.com/pytorch/pytorch/blob/main/SECURITY.md#untrusted-models for more details). In a future release, the default value for `weights_only` will be flipped to `True`. This limits the functions that could be executed during unpickling. Arbitrary objects will no longer be allowed to be loaded via this mode unless they are explicitly allowlisted by the user via `torch.serialization.add_safe_globals`. We recommend you start setting `weights_only=True` for any use case where you don't have full control of the loaded file. Please open an issue on GitHub for any issues related to this experimental feature.\n",
      "  model.load_state_dict(torch.load(f\"checkpoints/{cfg.name}_model_{10}.pt\"))\n"
     ]
    },
    {
     "ename": "IndexError",
     "evalue": "index 20 is out of bounds for axis 0 with size 20",
     "output_type": "error",
     "traceback": [
      "\u001b[0;31m---------------------------------------------------------------------------\u001b[0m",
      "\u001b[0;31mIndexError\u001b[0m                                Traceback (most recent call last)",
      "Cell \u001b[0;32mIn[6], line 11\u001b[0m\n\u001b[1;32m      8\u001b[0m model\u001b[38;5;241m.\u001b[39mload_state_dict(torch\u001b[38;5;241m.\u001b[39mload(\u001b[38;5;124mf\u001b[39m\u001b[38;5;124m\"\u001b[39m\u001b[38;5;124mcheckpoints/\u001b[39m\u001b[38;5;132;01m{\u001b[39;00mcfg\u001b[38;5;241m.\u001b[39mname\u001b[38;5;132;01m}\u001b[39;00m\u001b[38;5;124m_model_\u001b[39m\u001b[38;5;132;01m{\u001b[39;00m\u001b[38;5;241m10\u001b[39m\u001b[38;5;132;01m}\u001b[39;00m\u001b[38;5;124m.pt\u001b[39m\u001b[38;5;124m\"\u001b[39m))\n\u001b[1;32m     10\u001b[0m alg \u001b[38;5;241m=\u001b[39m GreedyAlgorithm(search_cfg\u001b[38;5;241m=\u001b[39m\u001b[38;5;28;01mNone\u001b[39;00m, model\u001b[38;5;241m=\u001b[39mmodel)\n\u001b[0;32m---> 11\u001b[0m _ \u001b[38;5;241m=\u001b[39m\u001b[43malg\u001b[49m\u001b[38;5;241;43m.\u001b[39;49m\u001b[43mplay_game\u001b[49m\u001b[43m(\u001b[49m\u001b[43mmaze\u001b[49m\u001b[43m)\u001b[49m\n",
      "File \u001b[0;32m~/Documents/Software/AlphaZeroFromScratch/discrete_maze/search_algorithm.py:136\u001b[0m, in \u001b[0;36mGreedyAlgorithm.play_game\u001b[0;34m(self, game, max_iters, verbose, visualize)\u001b[0m\n\u001b[1;32m    133\u001b[0m policy, _ \u001b[38;5;241m=\u001b[39m \u001b[38;5;28mself\u001b[39m\u001b[38;5;241m.\u001b[39mquery_model(node)\n\u001b[1;32m    134\u001b[0m action \u001b[38;5;241m=\u001b[39m np\u001b[38;5;241m.\u001b[39margmax(policy)\n\u001b[0;32m--> 136\u001b[0m node \u001b[38;5;241m=\u001b[39m \u001b[43mNode\u001b[49m\u001b[43m(\u001b[49m\u001b[43mgame\u001b[49m\u001b[38;5;241;43m.\u001b[39;49m\u001b[43mget_next_state\u001b[49m\u001b[43m(\u001b[49m\u001b[43mnode\u001b[49m\u001b[38;5;241;43m.\u001b[39;49m\u001b[43mstate\u001b[49m\u001b[43m,\u001b[49m\u001b[43m \u001b[49m\u001b[43maction\u001b[49m\u001b[43m)\u001b[49m\u001b[43m,\u001b[49m\u001b[43m \u001b[49m\u001b[43mgame\u001b[49m\u001b[43m,\u001b[49m\u001b[43m \u001b[49m\u001b[43mparent\u001b[49m\u001b[38;5;241;43m=\u001b[39;49m\u001b[43mnode\u001b[49m\u001b[43m,\u001b[49m\u001b[43m \u001b[49m\u001b[43mlast_action\u001b[49m\u001b[38;5;241;43m=\u001b[39;49m\u001b[43maction\u001b[49m\u001b[43m)\u001b[49m\n\u001b[1;32m    138\u001b[0m final_reward, terminated \u001b[38;5;241m=\u001b[39m game\u001b[38;5;241m.\u001b[39mget_value_and_terminated(node\u001b[38;5;241m.\u001b[39mstate)\n\u001b[1;32m    139\u001b[0m \u001b[38;5;28;01mif\u001b[39;00m terminated:\n",
      "File \u001b[0;32m~/Documents/Software/AlphaZeroFromScratch/discrete_maze/search_algorithm.py:17\u001b[0m, in \u001b[0;36mNode.__init__\u001b[0;34m(self, state, game, parent, last_action, prior_prob, history_length)\u001b[0m\n\u001b[1;32m     15\u001b[0m \u001b[38;5;28mself\u001b[39m\u001b[38;5;241m.\u001b[39mparent \u001b[38;5;241m=\u001b[39m parent\n\u001b[1;32m     16\u001b[0m \u001b[38;5;28mself\u001b[39m\u001b[38;5;241m.\u001b[39mlast_action \u001b[38;5;241m=\u001b[39m last_action\n\u001b[0;32m---> 17\u001b[0m \u001b[38;5;28mself\u001b[39m\u001b[38;5;241m.\u001b[39mvalid_actions \u001b[38;5;241m=\u001b[39m \u001b[43mgame\u001b[49m\u001b[38;5;241;43m.\u001b[39;49m\u001b[43mget_valid_actions\u001b[49m\u001b[43m(\u001b[49m\u001b[43mstate\u001b[49m\u001b[43m)\u001b[49m\n\u001b[1;32m     18\u001b[0m \u001b[38;5;28mself\u001b[39m\u001b[38;5;241m.\u001b[39mprior_prob \u001b[38;5;241m=\u001b[39m prior_prob\n\u001b[1;32m     20\u001b[0m \u001b[38;5;66;03m# Initialize attributes\u001b[39;00m\n",
      "File \u001b[0;32m~/Documents/Software/AlphaZeroFromScratch/discrete_maze/maze.py:194\u001b[0m, in \u001b[0;36mMaze.get_valid_actions\u001b[0;34m(self, state)\u001b[0m\n\u001b[1;32m    192\u001b[0m     dx, dy \u001b[38;5;241m=\u001b[39m \u001b[38;5;28mself\u001b[39m\u001b[38;5;241m.\u001b[39maction_to_delta(action)\n\u001b[1;32m    193\u001b[0m     nx, ny \u001b[38;5;241m=\u001b[39m state\u001b[38;5;241m.\u001b[39mx \u001b[38;5;241m+\u001b[39m dx, state\u001b[38;5;241m.\u001b[39my \u001b[38;5;241m+\u001b[39m dy\n\u001b[0;32m--> 194\u001b[0m     \u001b[38;5;28;01mif\u001b[39;00m \u001b[38;5;28;43mself\u001b[39;49m\u001b[38;5;241;43m.\u001b[39;49m\u001b[43mmap\u001b[49m\u001b[43m[\u001b[49m\u001b[43mnx\u001b[49m\u001b[43m,\u001b[49m\u001b[43m \u001b[49m\u001b[43mny\u001b[49m\u001b[43m]\u001b[49m \u001b[38;5;241m!=\u001b[39m \u001b[38;5;241m1\u001b[39m:\n\u001b[1;32m    195\u001b[0m         valid_moves\u001b[38;5;241m.\u001b[39mappend(action)\n\u001b[1;32m    196\u001b[0m \u001b[38;5;28;01mreturn\u001b[39;00m valid_moves\n",
      "\u001b[0;31mIndexError\u001b[0m: index 20 is out of bounds for axis 0 with size 20"
     ]
    }
   ],
   "source": [
    "\n",
    "device = torch.device(\"cuda\" if torch.cuda.is_available() else \"cpu\")\n",
    "\n",
    "maze = Maze(20, 20, 0.1, \"ShortestPath\")\n",
    "maze.visualize_path()\n",
    "\n",
    "model = ResNet(cfg.model, device)\n",
    "# model.load_state_dict(torch.load(f\"checkpoints/{cfg.name}_best_model.pt\"))\n",
    "model.load_state_dict(torch.load(f\"checkpoints/{cfg.name}_model_{15}.pt\"))\n",
    "\n",
    "alg = GreedyAlgorithm(search_cfg=None, model=model)\n",
    "_ =alg.play_game(maze)"
   ]
  },
  {
   "cell_type": "code",
   "execution_count": null,
   "metadata": {},
   "outputs": [],
   "source": []
  },
  {
   "cell_type": "code",
   "execution_count": null,
   "metadata": {},
   "outputs": [],
   "source": []
  }
 ],
 "metadata": {
  "kernelspec": {
   "display_name": ".venv",
   "language": "python",
   "name": "python3"
  },
  "language_info": {
   "codemirror_mode": {
    "name": "ipython",
    "version": 3
   },
   "file_extension": ".py",
   "mimetype": "text/x-python",
   "name": "python",
   "nbconvert_exporter": "python",
   "pygments_lexer": "ipython3",
   "version": "3.10.12"
  }
 },
 "nbformat": 4,
 "nbformat_minor": 2
}
