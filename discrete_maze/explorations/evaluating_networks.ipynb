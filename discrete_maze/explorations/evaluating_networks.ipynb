{
 "cells": [
  {
   "cell_type": "code",
   "execution_count": 1,
   "metadata": {},
   "outputs": [],
   "source": [
    "import numpy as np\n",
    "from typing import Optional, List, Tuple\n",
    "import matplotlib.pyplot as plt\n",
    "import matplotlib.colors as mcolors\n",
    "import torch\n",
    "\n",
    "\n",
    "from tqdm.notebook import trange, tqdm\n",
    "from omegaconf import OmegaConf, DictConfig\n",
    "\n",
    "# Set precision to 3 decimal places\n",
    "np.set_printoptions(precision=3, suppress=True)\n",
    "\n",
    "import pickle\n",
    "\n",
    "from discrete_maze.maze import Maze\n",
    "from discrete_maze.search_algorithm import GreedyAlgorithm, SearchAlgorithm\n",
    "from discrete_maze.maze_dataset import MazeDataset\n",
    "from discrete_maze.resnet import ResNet"
   ]
  },
  {
   "cell_type": "code",
   "execution_count": 2,
   "metadata": {},
   "outputs": [],
   "source": [
    "# Define the configuration using OmegaConf\n",
    "cfg = OmegaConf.create({\n",
    "    \"maze\": {\n",
    "        \"width\": {\"min\": 4, \"max\": 50},\n",
    "        \"height\": {\"min\": 4, \"max\": 50},\n",
    "        \"cell_occupancy_prob\": {\"min\": 0, \"max\": 0.3},\n",
    "        \"max_steps\": \"ShortestPath\", # Use this to set the max steps to the shortest path between source and target * 2\n",
    "        # \"max_steps\": \"L1SourceTarget\", # Use this to set the max steps to the L1 distance between source and target * 2\n",
    "        # To set paramters to constant values, use a float\n",
    "        # \"width\": 4,\n",
    "        # \"height\": 4,\n",
    "        # \"cell_occupancy_prob\": 0,\n",
    "        # \"max_steps\": 5, \n",
    "    },\n",
    "    \"model\": {\n",
    "        \"num_resBlocks\": 4,\n",
    "        \"num_filters\": 64,\n",
    "        \"history_length\": 8, # Number of current and previous states to consider, 1 for current state only\n",
    "    },\n",
    "    \"learn\": {\n",
    "        # Relevant for Expert Iteration Only\n",
    "        # \"num_learn_iters\": 100,\n",
    "        # \"num_self_play_iters\": 500,\n",
    "        \"num_parallel_games\": 100,\n",
    "        # \"use_curriculum\": True,\n",
    "        # \"curriculum_success_threshold\": 0.95,\n",
    "        # Relevant for Behavior Cloning Only\n",
    "        \"train_dataset\": \"maze_4to50_0to0p3_500000\",\n",
    "        \"val_dataset\": \"maze_4to50_0to0p3_50000\",\n",
    "        \"val_batch_size\": 128,\n",
    "        # \"patience\": 5,\n",
    "        # Relevant for both Expert Iteration and Behavior Cloning\n",
    "        \"num_train_epochs\": 15,\n",
    "        \"train_batch_size\": 64,\n",
    "        \"lr\": 0.001,\n",
    "        \"weight_decay\": 0.0001,\n",
    "        \"save_every\": 5,\n",
    "        \"use_wandb\": True,\n",
    "        # \"load_checkpoint\": \"maze_4to10_rtg_model_99\",\n",
    "    }\n",
    "})"
   ]
  },
  {
   "cell_type": "code",
   "execution_count": 3,
   "metadata": {},
   "outputs": [],
   "source": [
    "import pandas as pd\n",
    "\n",
    "def summarize_results(results, name):\n",
    "    df = pd.DataFrame(results, columns=['termination_case', 'value'])\n",
    "    percentages = df['termination_case'].value_counts(normalize=True) * 100\n",
    "\n",
    "    # Compute average optimal path ratio for successful runs\n",
    "    average_optimal_path_ratio = df['value'].mean()\n",
    "\n",
    "    print(f\"Results for {name}:\")\n",
    "    print(f\"% Target Reached: {percentages.get(SearchAlgorithm.TerminationCase.TARGET_REACHED, 0):.2f}%\")\n",
    "    print(f\"% Timed Out: {percentages.get(SearchAlgorithm.TerminationCase.TIMEOUT, 0):.2f}%\")\n",
    "    print(f\"% Collided: {percentages.get(SearchAlgorithm.TerminationCase.COLLISION, 0):.2f}%\")\n",
    "    print(f\"Average path_length/optimal_path_length: {average_optimal_path_ratio:.4f}\\n\")"
   ]
  },
  {
   "cell_type": "code",
   "execution_count": 4,
   "metadata": {},
   "outputs": [],
   "source": [
    "# device = torch.device(\"cuda\" if torch.cuda.is_available() else \"cpu\")\n",
    "\n",
    "# bc_model = ResNet(cfg.model, device)\n",
    "# # model.load_state_dict(torch.load(f\"checkpoints/{cfg.name}_best_model.pt\"))\n",
    "# # bc_model.load_state_dict(torch.load(f\"../checkpoints/maze_4to50_0to0p3_500000_bc_model_{14}.pt\", weights_only=True))\n",
    "# bc_model.load_state_dict(torch.load(f\"../checkpoints/maze_4to50_0to0p3_50000_bc_model_{10}.pt\", weights_only=True))\n",
    "# exIt_model = ResNet(cfg.model, device)\n",
    "# exIt_model.load_state_dict(torch.load(f\"../checkpoints/maze_4to100_hist8_model_{99}.pt\", weights_only=True))\n",
    "\n",
    "# total_runs = 100\n",
    "# bc_results = []\n",
    "# exIt_results = []\n",
    "# for i in trange(total_runs):\n",
    "#     maze = Maze(10, 10, 0, \"ShortestPath\")\n",
    "#     # maze.visualize_path()\n",
    "#     bc_alg = GreedyAlgorithm(search_cfg=None, model=bc_model)\n",
    "#     exIt_alg = GreedyAlgorithm(search_cfg=None, model=exIt_model)\n",
    "#     bc_results.append(bc_alg.play_game(maze, verbose=False, visualize=False))\n",
    "#     exIt_results.append(exIt_alg.play_game(maze, verbose=False, visualize=False))\n",
    "# summarize_results(bc_results, 'Behavior Cloning')\n",
    "# summarize_results(exIt_results, 'Expert Imitation')\n"
   ]
  },
  {
   "cell_type": "code",
   "execution_count": 13,
   "metadata": {},
   "outputs": [
    {
     "data": {
      "application/vnd.jupyter.widget-view+json": {
       "model_id": "e3f6436d33aa4826a789eaa5e9513af6",
       "version_major": 2,
       "version_minor": 0
      },
      "text/plain": [
       "  0%|          | 0/10 [00:00<?, ?it/s]"
      ]
     },
     "metadata": {},
     "output_type": "display_data"
    },
    {
     "name": "stdout",
     "output_type": "stream",
     "text": [
      "round: 0 total_runs: 1000\n",
      "Results for Behavior Cloning 500k:\n",
      "% Target Reached: 89.60%\n",
      "% Timed Out: 2.20%\n",
      "% Collided: 8.20%\n",
      "Average path_length/optimal_path_length: 1.0716\n",
      "\n",
      "Results for Behavior Cloning 50k:\n",
      "% Target Reached: 78.40%\n",
      "% Timed Out: 15.00%\n",
      "% Collided: 6.60%\n",
      "Average path_length/optimal_path_length: 1.1321\n",
      "\n",
      "Results for Expert Iteration n_sim 50:\n",
      "% Target Reached: 78.80%\n",
      "% Timed Out: 20.70%\n",
      "% Collided: 0.50%\n",
      "Average path_length/optimal_path_length: 1.1797\n",
      "\n",
      "Results for Expert Iteration n_sim 300:\n",
      "% Target Reached: 78.60%\n",
      "% Timed Out: 20.80%\n",
      "% Collided: 0.60%\n",
      "Average path_length/optimal_path_length: 1.7248\n",
      "\n"
     ]
    },
    {
     "data": {
      "application/vnd.jupyter.widget-view+json": {
       "model_id": "77793c7551de43df8bff6cdc51e873f3",
       "version_major": 2,
       "version_minor": 0
      },
      "text/plain": [
       "  0%|          | 0/10 [00:00<?, ?it/s]"
      ]
     },
     "metadata": {},
     "output_type": "display_data"
    },
    {
     "name": "stdout",
     "output_type": "stream",
     "text": [
      "round: 1 total_runs: 1000\n",
      "Results for Behavior Cloning 500k:\n",
      "% Target Reached: 92.00%\n",
      "% Timed Out: 3.20%\n",
      "% Collided: 4.80%\n",
      "Average path_length/optimal_path_length: 1.0737\n",
      "\n",
      "Results for Behavior Cloning 50k:\n",
      "% Target Reached: 81.60%\n",
      "% Timed Out: 12.70%\n",
      "% Collided: 5.70%\n",
      "Average path_length/optimal_path_length: 1.1313\n",
      "\n",
      "Results for Expert Iteration n_sim 50:\n",
      "% Target Reached: 82.50%\n",
      "% Timed Out: 17.10%\n",
      "% Collided: 0.40%\n",
      "Average path_length/optimal_path_length: 1.1606\n",
      "\n",
      "Results for Expert Iteration n_sim 300:\n",
      "% Target Reached: 79.30%\n",
      "% Timed Out: 20.30%\n",
      "% Collided: 0.40%\n",
      "Average path_length/optimal_path_length: 1.7228\n",
      "\n"
     ]
    },
    {
     "data": {
      "application/vnd.jupyter.widget-view+json": {
       "model_id": "c2b2781747e64290bef1138a992937b4",
       "version_major": 2,
       "version_minor": 0
      },
      "text/plain": [
       "  0%|          | 0/10 [00:00<?, ?it/s]"
      ]
     },
     "metadata": {},
     "output_type": "display_data"
    },
    {
     "name": "stdout",
     "output_type": "stream",
     "text": [
      "round: 2 total_runs: 1000\n",
      "Results for Behavior Cloning 500k:\n",
      "% Target Reached: 92.10%\n",
      "% Timed Out: 2.40%\n",
      "% Collided: 5.50%\n",
      "Average path_length/optimal_path_length: 1.0678\n",
      "\n",
      "Results for Behavior Cloning 50k:\n",
      "% Target Reached: 82.20%\n",
      "% Timed Out: 13.30%\n",
      "% Collided: 4.50%\n",
      "Average path_length/optimal_path_length: 1.1456\n",
      "\n",
      "Results for Expert Iteration n_sim 50:\n",
      "% Target Reached: 79.70%\n",
      "% Timed Out: 19.50%\n",
      "% Collided: 0.80%\n",
      "Average path_length/optimal_path_length: 1.1782\n",
      "\n",
      "Results for Expert Iteration n_sim 300:\n",
      "% Target Reached: 77.90%\n",
      "% Timed Out: 21.20%\n",
      "% Collided: 0.90%\n",
      "Average path_length/optimal_path_length: 1.7114\n",
      "\n"
     ]
    }
   ],
   "source": [
    "device = torch.device(\"cuda\" if torch.cuda.is_available() else \"cpu\")\n",
    "\n",
    "models_to_test = {\n",
    "    \"Behavior Cloning 500k\": f\"../checkpoints/maze_4to50_0to0p3_500000_bc_model_{14}.pt\",\n",
    "    \"Behavior Cloning 50k\": f\"../checkpoints/maze_4to50_0to0p3_50000_bc_model_{10}.pt\",\n",
    "    \"Expert Iteration n_sim 50\": f\"../checkpoints/maze_4to100_hist8_model_{99}.pt\",\n",
    "    \"Expert Iteration n_sim 300\": f\"../checkpoints/maze_4to100_hist8_numsim300_model_{99}.pt\",\n",
    "}\n",
    "models = {}\n",
    "for name, path in models_to_test.items():\n",
    "    model = ResNet(cfg.model, device)\n",
    "    model.load_state_dict(torch.load(path, weights_only=True))\n",
    "    models[name] = model\n",
    "\n",
    "n_rounds = 3\n",
    "for n_round in range(n_rounds):\n",
    "    n_batches = 10\n",
    "    total_runs = n_batches * cfg.learn.num_parallel_games\n",
    "    results = {model_name: [] for model_name in models.keys()}\n",
    "    algs = {model_name: GreedyAlgorithm(search_cfg=None, model=model) for model_name, model in models.items()}\n",
    "\n",
    "\n",
    "    for _ in trange(n_batches):\n",
    "        maze_params = Maze.generate_maze_params(cfg.learn.num_parallel_games, maze_cfg=cfg.maze)\n",
    "        mazes = [Maze(*params) for params in maze_params]\n",
    "        for model_name, alg in algs.items():\n",
    "            results[model_name].extend(alg.play_game_batch(mazes, verbose=False, visualize=False))\n",
    "    print(f\"round: {n_round} total_runs: {total_runs}\")\n",
    "    for model_name, model_results in results.items():\n",
    "        summarize_results(model_results, model_name)"
   ]
  },
  {
   "cell_type": "code",
   "execution_count": null,
   "metadata": {},
   "outputs": [],
   "source": []
  }
 ],
 "metadata": {
  "kernelspec": {
   "display_name": ".venv",
   "language": "python",
   "name": "python3"
  },
  "language_info": {
   "codemirror_mode": {
    "name": "ipython",
    "version": 3
   },
   "file_extension": ".py",
   "mimetype": "text/x-python",
   "name": "python",
   "nbconvert_exporter": "python",
   "pygments_lexer": "ipython3",
   "version": "3.10.12"
  }
 },
 "nbformat": 4,
 "nbformat_minor": 2
}
