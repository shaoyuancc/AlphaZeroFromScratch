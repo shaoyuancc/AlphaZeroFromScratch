{
 "cells": [
  {
   "cell_type": "code",
   "execution_count": 1,
   "metadata": {},
   "outputs": [
    {
     "name": "stdout",
     "output_type": "stream",
     "text": [
      "2.1.3\n",
      "2.5.1+cu124\n"
     ]
    }
   ],
   "source": [
    "import heapq\n",
    "import numpy as np\n",
    "from typing import Optional, List, Tuple\n",
    "import matplotlib.pyplot as plt\n",
    "import matplotlib.colors as mcolors\n",
    "from collections import namedtuple\n",
    "print(np.__version__)\n",
    "import random\n",
    "import copy\n",
    "import time\n",
    "\n",
    "import torch\n",
    "print(torch.__version__)\n",
    "\n",
    "import torch.nn as nn\n",
    "import torch.nn.functional as F\n",
    "\n",
    "from tqdm.notebook import trange, tqdm\n",
    "import wandb\n",
    "from omegaconf import OmegaConf, DictConfig\n",
    "\n",
    "# Set precision to 3 decimal places\n",
    "np.set_printoptions(precision=3, suppress=True)\n",
    "\n",
    "import pickle\n",
    "\n",
    "from discrete_maze.maze import Maze\n",
    "from discrete_maze.search_algorithm import Node\n"
   ]
  },
  {
   "cell_type": "markdown",
   "metadata": {},
   "source": [
    "In this notebook, I create a dataset of optimal demonstrations for \n"
   ]
  },
  {
   "cell_type": "code",
   "execution_count": 2,
   "metadata": {},
   "outputs": [],
   "source": [
    "# Define the configuration using OmegaConf\n",
    "cfg = OmegaConf.create({\n",
    "    \"name\": \"maze_4to50_0to0p3_500000\", # Will be used as the dataset name\n",
    "    \"dataset_generation\": {\n",
    "        \"num_samples\": 500000,\n",
    "    },\n",
    "    \"maze\": {\n",
    "        \"width\": {\"min\": 4, \"max\": 50},\n",
    "        \"height\": {\"min\": 4, \"max\": 50},\n",
    "        \"cell_occupancy_prob\": {\"min\": 0, \"max\": 0.3},\n",
    "        \"max_steps\": \"ShortestPath\", # Use this to set the max steps to the shortest path between source and target * 2\n",
    "        # \"max_steps\": \"L1SourceTarget\", # Use this to set the max steps to the L1 distance between source and target * 2\n",
    "        # To set paramters to constant values, use a float\n",
    "        # \"width\": 4,\n",
    "        # \"height\": 4,\n",
    "        # \"cell_occupancy_prob\": 0,\n",
    "        # \"max_steps\": 5, \n",
    "    },\n",
    "    \"model\": {\n",
    "        \"num_resBlocks\": 4,\n",
    "        \"num_filters\": 64,\n",
    "        \"history_length\": 8, # Number of current and previous states to consider, 1 for current state only\n",
    "    },\n",
    "})"
   ]
  },
  {
   "cell_type": "code",
   "execution_count": null,
   "metadata": {},
   "outputs": [],
   "source": [
    "\n",
    "def generate_maze_dataset(file_name, maze_cfg, num_episodes, seed: Optional[int] = None):\n",
    "    \"\"\"Generate a dataset of mazes and save it to a file. Does not save the observations/actions etc.\"\"\"\n",
    "    if seed is not None:\n",
    "        np.random.seed(seed)\n",
    "    else:\n",
    "        seed = np.random.randint(0, 2**32 - 1)\n",
    "        np.random.seed(seed)\n",
    "\n",
    "    print(f\"Seed: {seed}\")\n",
    "\n",
    "    maze_params = Maze.generate_maze_params(num_episodes, maze_cfg=maze_cfg)\n",
    "    mazes = [Maze(*params) for params in tqdm(maze_params, desc=\"Generating mazes\")]\n",
    "    episodes = [\n",
    "        {\n",
    "            \"map\": maze.map,\n",
    "            \"source\": maze.source,\n",
    "            \"target\": maze.target,\n",
    "            \"cell_occupancy_prob\": maze.cell_occupancy_prob,\n",
    "            \"max_steps\": maze.max_steps,\n",
    "            \"shortest_path\": maze.shortest_path,\n",
    "        } for maze in mazes\n",
    "    ]\n",
    "\n",
    "    dataset = {\n",
    "        \"episodes\": episodes,\n",
    "        \"dataset_maze_cfg\": OmegaConf.to_container(maze_cfg, resolve=True, throw_on_missing=True),\n",
    "        \"seed\": seed,\n",
    "    }\n",
    "\n",
    "    file_path = f\"datasets/{file_name}.pkl\"\n",
    "    with open(file_path, 'wb') as f:\n",
    "        pickle.dump(dataset, f)\n",
    "    print(f\"Dataset saved to {file_path}\")\n",
    "\n"
   ]
  },
  {
   "cell_type": "code",
   "execution_count": 4,
   "metadata": {},
   "outputs": [
    {
     "name": "stdout",
     "output_type": "stream",
     "text": [
      "Seed: 4208305061\n",
      "Unsolvable maze 20. Regenerating...\n",
      "Unsolvable maze 20. Regenerating...\n",
      "Unsolvable maze 20. Regenerating...\n",
      "Unsolvable maze 40. Regenerating...\n",
      "Dataset saved to datasets/maze_4to50_0to0p3_500000.pkl\n"
     ]
    }
   ],
   "source": [
    "# generate_maze_dataset(\"maze_4to50_0to0p3_50000\", cfg.maze, 50000)\n",
    "# generate_maze_dataset(\"maze_4to50_0to0p3_10000\", cfg.maze, 10000)\n",
    "# generate_maze_dataset(\"maze_4to50_0to0p3_100\", cfg.maze, 100)\n",
    "generate_maze_dataset(cfg.name, cfg.maze, cfg.dataset_generation.num_samples)"
   ]
  },
  {
   "cell_type": "markdown",
   "metadata": {},
   "source": [
    "## Tests for dataset generation"
   ]
  },
  {
   "cell_type": "code",
   "execution_count": 5,
   "metadata": {},
   "outputs": [],
   "source": [
    "# Test that the seed makes the generated datasets reproducible\n",
    "# from deepdiff import DeepDiff\n",
    "# generate_maze_dataset(\"maze_4to50_0to0p3_10_a\", cfg.maze, 100, seed=0)\n",
    "# generate_maze_dataset(\"maze_4to50_0to0p3_10_b\", cfg.maze, 100, seed=0)\n",
    "\n",
    "# with open(\"datasets/maze_4to50_0to0p3_10_a.pkl\", \"rb\") as file:\n",
    "#     loaded_data_a = pickle.load(file)\n",
    "# with open(\"datasets/maze_4to50_0to0p3_10_b.pkl\", \"rb\") as file:\n",
    "#     loaded_data_b = pickle.load(file)\n",
    "\n",
    "# diff = DeepDiff(loaded_data_a, loaded_data_b, ignore_order=True)\n",
    "\n",
    "# if not diff:\n",
    "#     print(\"The objects are identical.\")\n",
    "# else:\n",
    "#     print(\"The objects differ:\", diff)"
   ]
  }
 ],
 "metadata": {
  "kernelspec": {
   "display_name": ".venv",
   "language": "python",
   "name": "python3"
  },
  "language_info": {
   "codemirror_mode": {
    "name": "ipython",
    "version": 3
   },
   "file_extension": ".py",
   "mimetype": "text/x-python",
   "name": "python",
   "nbconvert_exporter": "python",
   "pygments_lexer": "ipython3",
   "version": "3.10.12"
  }
 },
 "nbformat": 4,
 "nbformat_minor": 2
}
